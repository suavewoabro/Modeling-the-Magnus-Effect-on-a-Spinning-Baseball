{
 "cells": [
  {
   "cell_type": "code",
   "execution_count": null,
   "id": "ea1e24fe-2efd-4d2b-bd00-cbb332d05ec3",
   "metadata": {},
   "outputs": [],
   "source": [
    "!pip install ipywidgets"
   ]
  },
  {
   "cell_type": "code",
   "execution_count": 1,
   "id": "4944cf5f-22ca-481e-8e9e-33e9c82af237",
   "metadata": {
    "id": "4944cf5f-22ca-481e-8e9e-33e9c82af237",
    "scrolled": true
   },
   "outputs": [],
   "source": [
    "import numpy as np\n",
    "import matplotlib.pyplot as plt\n",
    "import math"
   ]
  },
  {
   "cell_type": "markdown",
   "id": "80dac3ed-c977-4682-b00d-1ea35fe1331d",
   "metadata": {
    "id": "80dac3ed-c977-4682-b00d-1ea35fe1331d"
   },
   "source": [
    "## Setting Constants and Field Conditions:"
   ]
  },
  {
   "cell_type": "code",
   "execution_count": 2,
   "id": "3df3578d-b1bf-41c3-bfee-7f3184bcdb3b",
   "metadata": {
    "id": "3df3578d-b1bf-41c3-bfee-7f3184bcdb3b",
    "scrolled": true
   },
   "outputs": [],
   "source": [
    "#Defining constants\n",
    "Mb = 145e-3 #standardized mass of mlb baseball in kg\n",
    "g = 9.8 #m/s^2\n",
    "Rb = 74e-3/2 #standardized radius of a mlb baseball in meters\n",
    "A = np.pi * Rb**2 #cross sectional area of a baseball\n",
    "\n",
    "Cd = 0.3 #Drag coefficient on a baseball\n",
    "rho = 1.23 #kg/m^3\n",
    "\n",
    "#initializing baseball pitch conditions (distance to plate, initial throw height)\n",
    "relHeight=1.8 #m, about 6 feet\n",
    "relExtension=1.8 #same value, very good exension down the mound"
   ]
  },
  {
   "cell_type": "markdown",
   "id": "38e22bf1-d57b-4721-8ea4-5305ff616ee5",
   "metadata": {
    "id": "38e22bf1-d57b-4721-8ea4-5305ff616ee5"
   },
   "source": [
    "## Setting initial conditions for pitch:"
   ]
  },
  {
   "cell_type": "code",
   "execution_count": 3,
   "id": "910b7feb-6f5e-4e84-99ec-825e12d410b2",
   "metadata": {
    "id": "910b7feb-6f5e-4e84-99ec-825e12d410b2",
    "scrolled": true
   },
   "outputs": [],
   "source": [
    "x0=0     # Definition of initial x position.\n",
    "\n",
    "y0=relHeight    # Definition of initial y position.\n",
    "\n",
    "z0=0          #Definition of initial z position"
   ]
  },
  {
   "cell_type": "markdown",
   "id": "895971d0-355a-4b6a-8ed5-1e51b103bfae",
   "metadata": {
    "id": "895971d0-355a-4b6a-8ed5-1e51b103bfae"
   },
   "source": [
    "## Creating time array for our pitch modeling:"
   ]
  },
  {
   "cell_type": "code",
   "execution_count": 4,
   "id": "1e6a0a18-4ede-45ce-9550-07c3fd427f7a",
   "metadata": {
    "id": "1e6a0a18-4ede-45ce-9550-07c3fd427f7a",
    "scrolled": true
   },
   "outputs": [],
   "source": [
    "t0=0                            # Definition of initial time.\n",
    "\n",
    "tf=2                            # Definition of final time.\n",
    "\n",
    "N=100                         # Definition of slice number N.\n",
    "\n",
    "h=(tf-t0)/N                     # Definition of slice width h.\n",
    "\n",
    "timeArray=np.linspace(t0,tf,N)  # Definition of our time array using t0, tf, and N."
   ]
  },
  {
   "cell_type": "markdown",
   "id": "6c8b19bb-68c8-498b-bb8e-641bc50cbe2b",
   "metadata": {
    "id": "6c8b19bb-68c8-498b-bb8e-641bc50cbe2b"
   },
   "source": [
    "## Defining Function that inputs initial conditions of spin and trajectory and outputs forces to use in rk45 method:"
   ]
  },
  {
   "cell_type": "code",
   "execution_count": 5,
   "id": "5e753d94-1c58-4fba-aad3-2a24add4fa0c",
   "metadata": {
    "id": "5e753d94-1c58-4fba-aad3-2a24add4fa0c",
    "scrolled": true
   },
   "outputs": [],
   "source": [
    "def flightPath(trajectory,spin):                             # Definition of our differential equation function.\n",
    "    '''\n",
    "    This function takes three-dimensional trajectory and spin arrays as inputs and uses three dimensional \n",
    "    equations of motion to calculate the changing position and velocity of the baseball through time. \n",
    "\n",
    "    Parameters:\n",
    "\n",
    "        trajectory: A 1x6 array containing instantaneous position and velocity of the baseball, each in all three\n",
    "                    dimensions.\n",
    "\n",
    "        spin: A 1x3 array containing instantaneous spin of the baseball about all three dimensional axes.\n",
    "\n",
    "    Return:\n",
    "\n",
    "        np.array([dxdt,dydt,dzdt,dvxdt,dvydt,dvzdt],float): A new 1x6 array containing instantaneous three-dimensional \n",
    "                                                            positon and velocity values of the ball that are generated from\n",
    "                                                            the input position and velocity values being modified by the\n",
    "                                                            equations of motion that include acceleration due to gravity, drag,\n",
    "                                                            and the Magnus effect. \n",
    "\n",
    "    '''\n",
    "    x=trajectory[0]                                # Extraction of x component from the trajectory array.\n",
    "    \n",
    "    spinx=spin[0]                                  #Extracting spin about x axis\n",
    "    \n",
    "    y=trajectory[1]                                # Extraction of y component from the trajectory array.\n",
    "    \n",
    "    spiny=spin[1]                                  # Extracting spin about y axis\n",
    "    \n",
    "    z=trajectory[2]                                # Extraction of z component from the trajectory array.\n",
    "    \n",
    "    spinz=spin[2]                                  #Extracting spin about z axis \n",
    "\n",
    "    \n",
    "    vx=trajectory[3]                               # Extraction of vx component from the argument array.\n",
    "\n",
    "    vy=trajectory[4]                               # Extraction of vy component from the argument array.\n",
    "\n",
    "    vz=trajectory[5]                               # Extraction of vy component from the argument array.\n",
    "\n",
    "    \n",
    "    dxdt=vx                                        # Redefinition of vx.\n",
    "\n",
    "    dydt=vy                                        # Redefinition of vy.\n",
    "\n",
    "    dzdt=vz                                        # Redefinition of vz.\n",
    "    \n",
    "    vTot=trajectory[3:]\n",
    "    vMagnitude=np.sqrt(np.dot(vTot,vTot))\n",
    "    stot = abs(spinx) + abs(spiny) + abs(spinz)\n",
    "    \n",
    "    \n",
    "    #adding in if statement to prevent function from erroring while calculating forces in the case of no spin:\n",
    "    if stot == 0:\n",
    "        dvxdt=(-Cd*A*rho/Mb)*vMagnitude*vx     # Definition of dvxdt.\n",
    "\n",
    "        dvydt=-g-(Cd*A*rho/Mb)*vMagnitude*vy   # Definition of dvydt.\n",
    "\n",
    "        dvzdt=(-Cd*A*rho/Mb)*vMagnitude*vz\n",
    "\n",
    "    #forces implimented in the magnus force\n",
    "    else:\n",
    "       #Definition of necessary factors for magnus acceleration\n",
    "        spinMagnitude=np.sqrt(np.dot(spin,spin))\n",
    "        \n",
    "\n",
    "        #Defining the Acceleration in each dimension:\n",
    "        dvxdt=(-Cd*A*rho/Mb)*np.sqrt(vx**2+vy**2+vz**2)*vx+(1/Mb)*0.5*(0.62*(Rb*spinMagnitude/vMagnitude)**0.7)*rho*A*vMagnitude/spinMagnitude*np.cross(spin,trajectory[3:])[0]\n",
    "\n",
    "        dvydt=-g-(Cd*A*rho/Mb)*np.sqrt(vx**2+vy**2+vz**2)*vy+(1/Mb)*0.5*(0.62*(Rb*spinMagnitude/vMagnitude)**0.7)*rho*A*vMagnitude/spinMagnitude*np.cross(spin,trajectory[3:])[1]   \n",
    "\n",
    "        dvzdt=(-Cd*A*rho/Mb)*np.sqrt(vx**2+vy**2+vz**2)*vz+(1/Mb)*0.5*(0.62*(Rb*spinMagnitude/vMagnitude)**0.7)*rho*A*vMagnitude/spinMagnitude*np.cross(spin,trajectory[3:])[2]\n",
    "\n",
    "    return np.array([dxdt,dydt,dzdt,dvxdt,dvydt,dvzdt],float) # Return of an array containing information necessary to\n",
    "                                                   # define changes in velocity over time.\n"
   ]
  },
  {
   "cell_type": "markdown",
   "id": "815270da-b31e-4fb8-8e07-c22025f04e81",
   "metadata": {
    "id": "815270da-b31e-4fb8-8e07-c22025f04e81"
   },
   "source": [
    "## Defining function that takes our trajectory and spin arrays as inputs and outputs a modeled trajectory array in 3 dimensions:"
   ]
  },
  {
   "cell_type": "code",
   "execution_count": 6,
   "id": "fc43ea47-d16c-432b-bb86-cc854be90048",
   "metadata": {
    "id": "fc43ea47-d16c-432b-bb86-cc854be90048",
    "scrolled": true
   },
   "outputs": [],
   "source": [
    "def rk45(trajectory, spin):\n",
    "    for j in range(N-1):                                             # rk45 for loop that iterates over all rows of the trajectory array.\n",
    "\n",
    "        trajectoryCur=trajectory[j,:]                           # Definition of the current values to be worked with via extraction from the current\n",
    "                                                                 # trajectoryArray row.\n",
    "\n",
    "        k1=h*flightPath(trajectoryCur,spin)                                    # Definition of rk45 variables\n",
    "        k2=h*flightPath(trajectoryCur+k1/2,spin)                               # using the current values from above\n",
    "        k3=h*flightPath(trajectoryCur+k2/2,spin)                               # as the argument of our differential equation\n",
    "        k4=h*flightPath(trajectoryCur+k3,spin)                                 # function, along with slice width h.\n",
    "\n",
    "        trajectory[j+1,:]=trajectoryCur+(k1+2*k2+2*k3+k4)/6     # Definition of the next row of our trajectoryArray using the freshly defined\n",
    "                                                                 # rk45 variables.\n",
    "\n",
    "    xVals=trajectory[:,0]              # Extraction of our x values from the finished trajectoryArray.\n",
    "\n",
    "    yVals=trajectory[:,1]              # Extraction of our y values from the finished trajectoryArray.\n",
    "\n",
    "    zVals=trajectory[:,2]              # Extraction of our z values from the finished trajectoryArray.\n",
    "\n",
    "    vxVals=trajectory[:,3]             # Extraction of our vx, vy, and vz values from the finished trajectoryArray, just for good measure.\n",
    "    vyVals=trajectory[:,4]             # We will not plot these, but will make them accessible just to have the full picture available.\n",
    "    vzVals=trajectory[:,5]\n",
    "    positiveYVals=[]                                 # Initialization of our new limited x values array.\n",
    "\n",
    "    positiveXVals=[]                                 # Initialization of our new limited y values array.\n",
    "\n",
    "    positiveZVals=[]                                 # Initialization of our new limited z values array. \n",
    "\n",
    "\n",
    "    #This loop exists to cut off the trajectory calculation if the ball hits the ground (y=0), or if the ball reaches the plate (x=19)\n",
    "    for j in range(len(yVals)):                      # For loop that will iterate over the length of the original y values array.\n",
    "        if xVals[j]<=(18.89-relExtension):                              # If the y value is positive, the y value and the corresponding x value will be\n",
    "            if yVals[j]>=0:\n",
    "                positiveYVals.append(yVals[j])           # added to each respective new limited value arrays.\n",
    "                positiveXVals.append(xVals[j])\n",
    "                positiveZVals.append(zVals[j])\n",
    "        else:\n",
    "                break\n",
    "    return positiveXVals, positiveYVals, positiveZVals"
   ]
  },
  {
   "cell_type": "markdown",
   "id": "e48e4228-6f17-4b65-a22f-9dfe5b1f4ab7",
   "metadata": {},
   "source": [
    "## Defining the three dimensional home plate and batter:"
   ]
  },
  {
   "cell_type": "code",
   "execution_count": 19,
   "id": "00bdb23e",
   "metadata": {
    "scrolled": true
   },
   "outputs": [],
   "source": [
    "# Definition of the x, y, and z arrays of the position of the home plate and the batter. \n",
    "homePlateWidth=0.432 # Width of home plate in meters.\n",
    "\n",
    "strikeZoneBottom=0.457 # Typical lowest point of the strike zone, m. \n",
    "\n",
    "strikeZoneTop=1.067 # Typical highest point of the strike zone, m.\n",
    "\n",
    "# Definition of the strike zone positional arrays using the constants defined above.\n",
    "strikeZoneZArray=np.array([-homePlateWidth/2,homePlateWidth/2,homePlateWidth/2,-homePlateWidth/2,-homePlateWidth/2])\n",
    "\n",
    "strikeZoneY=np.array([strikeZoneBottom,strikeZoneBottom,strikeZoneTop,strikeZoneTop,strikeZoneBottom])\n",
    "\n",
    "strikeZoneXVal=(18.189-relExtension) # Definition of the x distance from the pitcher's release point to home plate using the previously defined\n",
    "                                     # relExtension and the distance from the pitcher's mound to home plate, about 60 ft, 6 inches in meters (18.189). \n",
    "strikeZoneXArray=np.array([strikeZoneXVal,strikeZoneXVal,strikeZoneXVal,strikeZoneXVal,strikeZoneXVal])\n",
    "\n",
    "# Definition of the batter positional arrays for a batter sillhouette that is 0.4 meters wide and 1.8 meters tall.\n",
    "batterXArray=strikeZoneXArray\n",
    "batterZArray=np.array([0.4,0.8,0.8,0.4,0.4])\n",
    "batterY=np.array([0,0,1.8,1.8,0])"
   ]
  },
  {
   "cell_type": "markdown",
   "id": "9c699f66",
   "metadata": {},
   "source": [
    "## All parts compiled into 2D RK45 Plotting Function:"
   ]
  },
  {
   "cell_type": "code",
   "execution_count": 20,
   "id": "fd189d3a",
   "metadata": {
    "scrolled": true
   },
   "outputs": [],
   "source": [
    "def master2DFunction(xAxisSpin,yAxisSpin,zAxisSpin):\n",
    "    \"\"\"\n",
    "    This function takes three spin input arrays (one for each dimension) and creates a 2-dimensional plot of the final position of the spin-modified \n",
    "    pitch and no-spin control pitch in the z-y plane along with 2-dimensional plots of the strike zone and batter. \n",
    "\n",
    "    Parameters:\n",
    "\n",
    "        xAxisSpin: The component of spin of the baseball about the x axis.\n",
    "\n",
    "        yAxisSpin: The component of spin of the basbeall about the y axis.\n",
    "\n",
    "        zAxisSpin: The component of spin of the basbeall about the y axis.\n",
    "\n",
    "    Returns:\n",
    "\n",
    "        Plot: The function does not have any traditional returns, but instead has the explicit purpose of producing the 2-dimensional plot\n",
    "               of the strike zone, batter, and final locations of the two pitches. Essentially, the function returns this plot. \n",
    "    \"\"\"\n",
    "    # Conversion of the separately user-input initial velocity of the ball to a float with units in m/s.\n",
    "    velocity=float(v0)\n",
    "    velocity=0.447*velocity\n",
    "\n",
    "    # Conversion of the separately use-input initial vertical and horizontal trajectory angles to floats in units of radians. \n",
    "    verticalAngle= (np.pi/180) * float(theta0)\n",
    "    horizontalAngle = -float(phi0) + 90\n",
    "    horizontalAngle = (np.pi/180) * horizontalAngle\n",
    "\n",
    "    # Conversion of the three arguments to float values. \n",
    "    xAxisSpin=float(xAxisSpin)\n",
    "    yAxisSpin=-float(yAxisSpin)\n",
    "    zAxisSpin=float(zAxisSpin)\n",
    "\n",
    "    # Usage of the three arguments to create a three-dimensional spin array in units of rad/s and definition of our no spin, spin array.  \n",
    "    spinArrayComp=0.105*np.array([xAxisSpin,yAxisSpin,zAxisSpin])\n",
    "    noSpinArrayComp=np.array([0,0,0])\n",
    "    \n",
    "    # Definitions of the initial rows of the spin-impacted and no-spin trajectory arrays and initialization of said arrays with those rows assigned\n",
    "    # to the corresponding arrays. An empty base array is copied to make the process a bit more efficient. The two arrays, spin and no spin, look identical\n",
    "    # in their first rows, as they both have the same initial conditions except for the spin. Each trajectory array has the format [x0,y0,z0,vx0,xy0,vz0].\n",
    "    trajectoryInit0=np.array([x0,y0,z0,velocity*np.cos(verticalAngle)*np.sin(horizontalAngle),velocity*np.sin(verticalAngle),velocity*np.cos(verticalAngle)*np.cos(horizontalAngle)],float)\n",
    "    trajectoryInit_base=np.empty([N,6]) \n",
    "    trajectoryArrayInit=trajectoryInit_base.copy()\n",
    "    trajectoryArrayInit[0,:]=trajectory0\n",
    "    trajectoryArrayInitNoSpin=trajectoryInit_base.copy()\n",
    "    trajectoryArrayInitNoSpin[0,:]=trajectory0\n",
    "\n",
    "    # Implementation of the rk45 functions for the spin and no spin trajectories using the trajectory and spin arrays defined above for each case. \n",
    "    xSpinMF,ySpinMF,zSpinMF=rk45(trajectoryArrayInit,spinArrayComp)\n",
    "    xNoSpinMF,yNoSpinMF,zNoSpinMF=rk45(trajectoryArrayInitNoSpin,noSpinArrayComp)\n",
    "\n",
    "    \n",
    "    # Definition of our 2-d figure and plotting of the final positional values of the spin and no spin trajectory arrays calculated above using rk45.\n",
    "    plt.figure(figsize = (homePlateWidth*10,(strikeZoneTop-strikeZoneBottom)*10))\n",
    "    #plt.scatter(nsfinal, sfinal, color = 'r')\n",
    "    plt.plot(zSpinMF[-1],ySpinMF[-1],'w.',mec='b',label=\"Pitch With Spin\",markersize=20)\n",
    "    plt.plot(zNoSpinMF[-1],yNoSpinMF[-1],'w.',mec='y',label=\"Pitch With No Spin\",markersize=20)\n",
    "\n",
    "\n",
    "    plt.xlim(-1,1)\n",
    "    plt.ylim(0,2)\n",
    "    plt.title('Strike Zone with Batter')\n",
    "    plt.xlabel('z(t)')\n",
    "    plt.ylabel('y(t)')\n",
    "    plt.grid('major')                   \n",
    "    #strikeZoneX=np.array([-homePlateWidth/2,homePlateWidth/2,homePlateWidth/2,-homePlateWidth/2,-homePlateWidth/2])\n",
    "    strikeZoneY=np.array([strikeZoneBottom,strikeZoneBottom,strikeZoneTop,strikeZoneTop,strikeZoneBottom])\n",
    "    plt.plot(strikeZoneZArray,strikeZoneY,'g', label = 'Strike Zone')\n",
    "    batterX=np.array([0.4,0.8,0.8,0.4,0.4])\n",
    "    batterY=np.array([0,0,1.8,1.8,0])\n",
    "    plt.plot(batterX,batterY,'k', label = 'Batter', linestyle = 'dashed')\n",
    "    plt.legend()\n"
   ]
  },
  {
   "cell_type": "code",
   "execution_count": 9,
   "id": "7b45cfa3",
   "metadata": {
    "scrolled": true
   },
   "outputs": [],
   "source": [
    "def master2DFunctionSide(xAxisSpin,yAxisSpin,zAxisSpin):\n",
    "    velocity=float(v0)\n",
    "    velocity=0.447*velocity\n",
    "    \n",
    "    verticalAngle= (np.pi/180) * float(theta0)\n",
    "    horizontalAngle = -float(phi0) + 90\n",
    "    horizontalAngle = (np.pi/180) * horizontalAngle\n",
    "    \n",
    "    xAxisSpin=float(xAxisSpin)\n",
    "    yAxisSpin=-float(yAxisSpin)\n",
    "    zAxisSpin=float(zAxisSpin)\n",
    "    \n",
    "    spinArrayComp=0.105*np.array([xAxisSpin,yAxisSpin,zAxisSpin])\n",
    "    noSpinArrayComp=np.array([0,0,0])\n",
    "    \n",
    "    #Variable definitions and rk45 implementation.\n",
    "    \n",
    "    trajectoryInit0=np.array([x0,y0,z0,velocity*np.cos(verticalAngle)*np.sin(horizontalAngle),velocity*np.sin(verticalAngle),velocity*np.cos(verticalAngle)*np.cos(horizontalAngle)],float)\n",
    "    trajectoryInit_base=np.empty([N,6]) \n",
    "    trajectoryArrayInit=trajectoryInit_base.copy()\n",
    "    trajectoryArrayInit[0,:]=trajectory0\n",
    "    trajectoryArrayInitNoSpin=trajectoryInit_base.copy()\n",
    "    trajectoryArrayInitNoSpin[0,:]=trajectory0\n",
    "    \n",
    "    xSpinMF,ySpinMF,zSpinMF=rk45(trajectoryArrayInit,spinArrayComp)\n",
    "    xNoSpinMF,yNoSpinMF,zNoSpinMF=rk45(trajectoryArrayInitNoSpin,noSpinArrayComp)\n",
    "    \n",
    "    #Plot generation\n",
    "    \n",
    "    plt.figure(figsize = (10,3))\n",
    "    plt.plot(xNoSpinMF, yNoSpinMF,'y.',label=\"No Spin\",markersize=10)\n",
    "    plt.plot(xSpinMF, ySpinMF, 'b', label=\"With User-Defined Spin\", linestyle = 'dashed')\n",
    "    plt.title('Side View of Baseball Trajectory With and Without Spin')\n",
    "    plt.xlabel(\"x Position, Pitcher's Release Point to Plate\")\n",
    "    plt.ylabel(\"Height of Ball Above Ground\")\n",
    "    plt.xlim(0, 18)\n",
    "    plt.ylim(0, 2)\n",
    "    plt.legend()\n",
    "    plt.grid()"
   ]
  },
  {
   "cell_type": "code",
   "execution_count": 10,
   "id": "74eed432",
   "metadata": {
    "scrolled": true
   },
   "outputs": [],
   "source": [
    "def master2DFunctionBirdsEye(xAxisSpin,yAxisSpin,zAxisSpin):\n",
    "    velocity=float(v0)\n",
    "    velocity=0.447*velocity\n",
    "    \n",
    "    verticalAngle= (np.pi/180) * float(theta0)\n",
    "    horizontalAngle = -float(phi0) + 90\n",
    "    horizontalAngle = (np.pi/180) * horizontalAngle\n",
    "    \n",
    "    xAxisSpin=float(xAxisSpin)\n",
    "    yAxisSpin=-float(yAxisSpin)\n",
    "    zAxisSpin=float(zAxisSpin)\n",
    "    \n",
    "    spinArrayComp=0.105*np.array([xAxisSpin,yAxisSpin,zAxisSpin])\n",
    "    noSpinArrayComp=np.array([0,0,0])\n",
    "    \n",
    "    #Variable definitions and rk45 implementation.\n",
    "    \n",
    "    trajectoryInit0=np.array([x0,y0,z0,velocity*np.cos(verticalAngle)*np.sin(horizontalAngle),velocity*np.sin(verticalAngle),velocity*np.cos(verticalAngle)*np.cos(horizontalAngle)],float)\n",
    "    trajectoryInit_base=np.empty([N,6]) \n",
    "    trajectoryArrayInit=trajectoryInit_base.copy()\n",
    "    trajectoryArrayInit[0,:]=trajectory0\n",
    "    trajectoryArrayInitNoSpin=trajectoryInit_base.copy()\n",
    "    trajectoryArrayInitNoSpin[0,:]=trajectory0\n",
    "    \n",
    "    xSpinMF,ySpinMF,zSpinMF=rk45(trajectoryArrayInit,spinArrayComp)\n",
    "    xNoSpinMF,yNoSpinMF,zNoSpinMF=rk45(trajectoryArrayInitNoSpin,noSpinArrayComp)\n",
    "    \n",
    "    plt.figure(figsize = (10,3))\n",
    "    plt.plot(xNoSpinMF, zNoSpinMF,'y.',label=\"No Spin\",markersize=10)\n",
    "    plt.plot(xSpinMF, zSpinMF, 'b',label=\"With User-Defined Spin\",linestyle=\"dashed\")\n",
    "    plt.title('Birds Eye View of Baseball Trajectory')\n",
    "    plt.xlabel('x(t)')\n",
    "    plt.ylabel('z(t)')\n",
    "    plt.xlim(0, 18)\n",
    "    plt.ylim(1, -1)\n",
    "    plt.legend()\n",
    "    plt.grid()\n",
    "    \n",
    "    \n",
    "    "
   ]
  },
  {
   "cell_type": "markdown",
   "id": "d5f6a6cd",
   "metadata": {},
   "source": [
    "## All parts compiled 3D RK45 Plotting Function:"
   ]
  },
  {
   "cell_type": "code",
   "execution_count": 11,
   "id": "528faf88",
   "metadata": {
    "scrolled": true
   },
   "outputs": [],
   "source": [
    "def master3DFunction(xAxisSpin,yAxisSpin,zAxisSpin):\n",
    "    \n",
    "    #Value recalibrations:\n",
    "    velocity=float(v0)\n",
    "    velocity=0.447*velocity\n",
    "    \n",
    "    verticalAngle= (np.pi/180) * float(theta0)\n",
    "    horizontalAngle = -float(phi0) + 90\n",
    "    horizontalAngle = (np.pi/180) * horizontalAngle\n",
    "    \n",
    "    xAxisSpin=float(xAxisSpin)\n",
    "    yAxisSpin=-float(yAxisSpin)\n",
    "    zAxisSpin=float(zAxisSpin)\n",
    "    \n",
    "    spinArrayComp=0.105*np.array([xAxisSpin,yAxisSpin,zAxisSpin])\n",
    "    noSpinArrayComp=np.array([0,0,0])\n",
    "    \n",
    "    #Variable definitions and rk45 implementation.\n",
    "    \n",
    "    trajectoryInit0=np.array([x0,y0,z0,velocity*np.cos(verticalAngle)*np.sin(horizontalAngle),velocity*np.sin(verticalAngle),velocity*np.cos(verticalAngle)*np.cos(horizontalAngle)],float)\n",
    "    trajectoryInit_base=np.empty([N,6]) \n",
    "    trajectoryArrayInit=trajectoryInit_base.copy()\n",
    "    trajectoryArrayInit[0,:]=trajectory0\n",
    "    trajectoryArrayInitNoSpin=trajectoryInit_base.copy()\n",
    "    trajectoryArrayInitNoSpin[0,:]=trajectory0\n",
    "    \n",
    "    xSpinMF,ySpinMF,zSpinMF=rk45(trajectoryArrayInit,spinArrayComp)\n",
    "    xNoSpinMF,yNoSpinMF,zNoSpinMF=rk45(trajectoryArrayInitNoSpin,noSpinArrayComp)\n",
    "    \n",
    "    #3d plotting\n",
    "    fig=plt.figure(figsize = (10, 10))\n",
    "    ax=fig.add_subplot(111,projection='3d',xlim=(-1,1),ylim=(0,18),zlim=(0,2))\n",
    "    ax.set_xlabel(\"z(t)m\")\n",
    "    ax.set_ylabel(\"x(t)m\")\n",
    "    ax.set_zlabel(\"y(t)m)\")\n",
    "    ax.plot(zSpinMF,xSpinMF,ySpinMF,'b')\n",
    "    ax.plot(zNoSpinMF,xNoSpinMF,yNoSpinMF,'y')\n",
    "    ax.plot(strikeZoneZArray,strikeZoneXArray,strikeZoneY,'g')\n",
    "    ax.plot(batterZArray,batterXArray,batterY,'k')\n",
    "    ax.set_box_aspect([1, 4, 1])  # [x, y, z] aspect ratio\n",
    "    #ax.set_ylim(0, 18)\n",
    "    #ax.set_zlim(0, 2)\n",
    "    #ax.set_xlim(-1, 1)\n",
    "    ax.set_xticks([-1, 0, 1])\n",
    "    ax.set_zticks([0, 1, 2])\n",
    "    ax.plot(zSpinMF[-1],xSpinMF[-1],ySpinMF[-1],'w.',mec='b',label=\"Pitch With Spin\",markersize=15)\n",
    "    ax.plot(zNoSpinMF[-1],xNoSpinMF[-1],yNoSpinMF[-1],'w.',mec='y',label=\"Pitch With No Spin\",markersize=15)\n",
    "    ax.set_title('3d View of pitch with User input initial conditions')\n",
    "    ax.view_init(10, -60)\n",
    "    ax.legend()\n",
    "    plt.show()"
   ]
  },
  {
   "cell_type": "markdown",
   "id": "5fe63d02-f9df-40bf-919c-6dfda6045197",
   "metadata": {},
   "source": [
    "# Input Initial Conditoins: "
   ]
  },
  {
   "cell_type": "markdown",
   "id": "b88e4e13-01b6-4965-bc2f-0b664fa637a3",
   "metadata": {},
   "source": [
    "## Input Initial velocity"
   ]
  },
  {
   "cell_type": "code",
   "execution_count": 12,
   "id": "e93ad477-d1ea-4573-be98-e21fad1e137c",
   "metadata": {},
   "outputs": [
    {
     "name": "stdin",
     "output_type": "stream",
     "text": [
      "Enter your pitch speed in mph: 95\n"
     ]
    }
   ],
   "source": [
    "#input initial speed\n",
    "v0= input('Enter your pitch speed in mph:')\n",
    "v0 = float(v0)\n",
    "v0 = 0.447 * v0\n",
    "                 # Definition of the first row of trajectoryArray using trajectory0."
   ]
  },
  {
   "cell_type": "markdown",
   "id": "8018b840-f3a3-4b6d-b1d0-44c1dc9bb7c0",
   "metadata": {},
   "source": [
    "## Input Initial Trajectory Angles:"
   ]
  },
  {
   "cell_type": "code",
   "execution_count": 13,
   "id": "b7d6ded9-3836-4a5b-81df-6bf66d6ed5bf",
   "metadata": {},
   "outputs": [
    {
     "name": "stdin",
     "output_type": "stream",
     "text": [
      "Input the initial vertical angle of the pitch in degrees (positive angle sends pitch up, negative sends pitch down):  0\n",
      "Input the initial horizontal angle of the pitch in degrees (positive angle sends pitch to the right of the plate, negative to the left):  1\n"
     ]
    }
   ],
   "source": [
    "##### input initial angle\n",
    "theta0= input('Input the initial vertical angle of the pitch in degrees (positive angle sends pitch up, negative sends pitch down): ')\n",
    "theta0 = (np.pi/180) * float(theta0)\n",
    "phi0 = input('Input the initial horizontal angle of the pitch in degrees (positive angle sends pitch to the right of the plate, negative to the left): ')\n",
    "phi0 = -float(phi0) + 90\n",
    "phi0 = (np.pi/180) * phi0"
   ]
  },
  {
   "cell_type": "markdown",
   "id": "3903d528",
   "metadata": {},
   "source": [
    "# Input Initial Spin:"
   ]
  },
  {
   "cell_type": "code",
   "execution_count": 14,
   "id": "0f4fc8e2",
   "metadata": {
    "scrolled": true
   },
   "outputs": [
    {
     "name": "stdin",
     "output_type": "stream",
     "text": [
      "Input the spin on the baseball about the x axis (rpm):  0\n",
      "Input the spin on the baseball about the y axis (rpm):  0\n",
      "Input the spin on the baseball about the z axis (rpm):  0\n"
     ]
    }
   ],
   "source": [
    "#input spin per axes\n",
    "spinx0 = input('Input the spin on the baseball about the x axis (rpm): ') #user input for x, y, and z axes respectively\n",
    "spinx0 = float(spinx0) #floating the inputs for the respective axes\n",
    "spiny0 = input('Input the spin on the baseball about the y axis (rpm): ')\n",
    "spiny0 = -float(spiny0)\n",
    "spinz0 = input('Input the spin on the baseball about the z axis (rpm): ')\n",
    "spinz0 = float(spinz0)\n",
    "\n",
    "spinArray = 0.105*np.array([spinx0, spiny0, spinz0]) #Factorization of rpm to rad/s"
   ]
  },
  {
   "cell_type": "markdown",
   "id": "39312c89",
   "metadata": {},
   "source": [
    "# Side View Plot:"
   ]
  },
  {
   "cell_type": "code",
   "execution_count": 15,
   "id": "8484836b",
   "metadata": {},
   "outputs": [
    {
     "data": {
      "application/vnd.jupyter.widget-view+json": {
       "model_id": "0cd78b665eee4011adb183f51d6e26aa",
       "version_major": 2,
       "version_minor": 0
      },
      "text/plain": [
       "interactive(children=(FloatSlider(value=0.0, description='xAxisSpin', max=4000.0, min=-4000.0, step=100.0), Fl…"
      ]
     },
     "metadata": {},
     "output_type": "display_data"
    },
    {
     "data": {
      "text/plain": [
       "<function __main__.master2DFunctionSide(xAxisSpin, yAxisSpin, zAxisSpin)>"
      ]
     },
     "execution_count": 15,
     "metadata": {},
     "output_type": "execute_result"
    }
   ],
   "source": [
    "%matplotlib inline\n",
    "%matplotlib notebook\n",
    "\n",
    "from ipywidgets import interact, FloatSlider\n",
    "\n",
    "interact(master2DFunctionSide, xAxisSpin=FloatSlider(min=-4000,max=4000,step=100,value=spinx0),\\\n",
    "        yAxisSpin=FloatSlider(min=-4000,max=4000,step=100,value=spiny0),zAxisSpin=FloatSlider(min=-4000,max=4000,step=100,value=spinz0))"
   ]
  },
  {
   "cell_type": "markdown",
   "id": "1dcb22b1",
   "metadata": {},
   "source": [
    "# Bird's Eye View Plot:"
   ]
  },
  {
   "cell_type": "code",
   "execution_count": 16,
   "id": "8b4134f3",
   "metadata": {},
   "outputs": [
    {
     "data": {
      "application/vnd.jupyter.widget-view+json": {
       "model_id": "3fe33e2bf5934736886814187a99e3cc",
       "version_major": 2,
       "version_minor": 0
      },
      "text/plain": [
       "interactive(children=(FloatSlider(value=0.0, description='xAxisSpin', max=4000.0, min=-4000.0, step=100.0), Fl…"
      ]
     },
     "metadata": {},
     "output_type": "display_data"
    },
    {
     "data": {
      "text/plain": [
       "<function __main__.master2DFunctionBirdsEye(xAxisSpin, yAxisSpin, zAxisSpin)>"
      ]
     },
     "execution_count": 16,
     "metadata": {},
     "output_type": "execute_result"
    }
   ],
   "source": [
    "interact(master2DFunctionBirdsEye, xAxisSpin=FloatSlider(min=-4000,max=4000,step=100,value=spinx0),\\\n",
    "        yAxisSpin=FloatSlider(min=-4000,max=4000,step=100,value=spiny0),zAxisSpin=FloatSlider(min=-4000,max=4000,step=100,value=spinz0))"
   ]
  },
  {
   "cell_type": "markdown",
   "id": "5c735776",
   "metadata": {},
   "source": [
    "# Strike Zone Plot:"
   ]
  },
  {
   "cell_type": "code",
   "execution_count": 17,
   "id": "6f26c4a2",
   "metadata": {},
   "outputs": [
    {
     "data": {
      "application/vnd.jupyter.widget-view+json": {
       "model_id": "0ebebce0aa734375bdca9eb2ebfb41e2",
       "version_major": 2,
       "version_minor": 0
      },
      "text/plain": [
       "interactive(children=(FloatSlider(value=0.0, description='xAxisSpin', max=4000.0, min=-4000.0, step=100.0), Fl…"
      ]
     },
     "metadata": {},
     "output_type": "display_data"
    },
    {
     "data": {
      "text/plain": [
       "<function __main__.master2DFunction(xAxisSpin, yAxisSpin, zAxisSpin)>"
      ]
     },
     "execution_count": 17,
     "metadata": {},
     "output_type": "execute_result"
    }
   ],
   "source": [
    "interact(master2DFunction, xAxisSpin=FloatSlider(min=-4000,max=4000,step=100,value=spinx0),\\\n",
    "        yAxisSpin=FloatSlider(min=-4000,max=4000,step=100,value=spiny0),zAxisSpin=FloatSlider(min=-4000,max=4000,step=100,value=spinz0))"
   ]
  },
  {
   "cell_type": "markdown",
   "id": "fd1f4da1",
   "metadata": {},
   "source": [
    "# 3 Dimensional Interactive Plot"
   ]
  },
  {
   "cell_type": "code",
   "execution_count": 18,
   "id": "b2beb88f",
   "metadata": {},
   "outputs": [
    {
     "data": {
      "application/vnd.jupyter.widget-view+json": {
       "model_id": "7597a311349048579eed8665240dafe4",
       "version_major": 2,
       "version_minor": 0
      },
      "text/plain": [
       "interactive(children=(FloatSlider(value=0.0, description='xAxisSpin', max=4000.0, min=-4000.0, step=100.0), Fl…"
      ]
     },
     "metadata": {},
     "output_type": "display_data"
    },
    {
     "data": {
      "text/plain": [
       "<function __main__.master3DFunction(xAxisSpin, yAxisSpin, zAxisSpin)>"
      ]
     },
     "execution_count": 18,
     "metadata": {},
     "output_type": "execute_result"
    }
   ],
   "source": [
    "interact(master3DFunction, xAxisSpin=FloatSlider(min=-4000,max=4000,step=100,value=spinx0),\\\n",
    "        yAxisSpin=FloatSlider(min=-4000,max=4000,step=100,value=spiny0),zAxisSpin=FloatSlider(min=-4000,max=4000,step=100,value=spinz0))"
   ]
  }
 ],
 "metadata": {
  "colab": {
   "provenance": []
  },
  "kernelspec": {
   "display_name": "Python 3 (ipykernel)",
   "language": "python",
   "name": "python3"
  },
  "language_info": {
   "codemirror_mode": {
    "name": "ipython",
    "version": 3
   },
   "file_extension": ".py",
   "mimetype": "text/x-python",
   "name": "python",
   "nbconvert_exporter": "python",
   "pygments_lexer": "ipython3",
   "version": "3.12.4"
  }
 },
 "nbformat": 4,
 "nbformat_minor": 5
}
